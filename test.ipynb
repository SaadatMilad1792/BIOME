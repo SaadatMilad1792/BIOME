{
 "cells": [
  {
   "cell_type": "code",
   "execution_count": 1,
   "id": "8d841bc3-bf0f-49d7-95e4-fc0f42dbaf11",
   "metadata": {},
   "outputs": [],
   "source": [
    "import pandas as pd\n",
    "gbdf = pd.read_pickle(\"/esplabdata/yaleBiozData/pythonDataBase/globalDataFrame.pkl.gz\", compression = \"gzip\")"
   ]
  },
  {
   "cell_type": "code",
   "execution_count": 13,
   "id": "988d6e99-79c9-46c6-973f-768ded9ae0a1",
   "metadata": {},
   "outputs": [
    {
     "name": "stdout",
     "output_type": "stream",
     "text": [
      "86653\n",
      "p011v1a ['ph04' 'ph06' 'ph07' 'ph08']\n",
      "p011v1b ['ph02' 'ph03' 'ph04' 'ph05' 'ph06' 'ph07' 'ph08']\n",
      "p011v1c ['ph02']\n",
      "p011v2a ['ph02' 'ph03' 'ph04' 'ph05' 'ph06' 'ph07' 'ph08']\n",
      "p011v2b ['ph02' 'ph03' 'ph04' 'ph05' 'ph06' 'ph08']\n",
      "p011v2c ['ph02' 'ph04' 'ph05' 'ph06']\n",
      "p011v3a ['ph02' 'ph04']\n",
      "p011v3b ['ph02' 'ph03' 'ph04' 'ph05' 'ph06' 'ph07' 'ph08']\n",
      "p011v3c ['ph02' 'ph03' 'ph05' 'ph06' 'ph07' 'ph08']\n"
     ]
    }
   ],
   "source": [
    "gbdf\n",
    "\n",
    "filtered_df = gbdf[(gbdf['wfqm'].apply(lambda x: (x[1] > 0.7) & (x[2] > 0.7))) & (gbdf['prep'] == 'CS')] #  & (gbdf[\"trial\"].str.contains(\"a|b\"))\n",
    "print(len(filtered_df))\n",
    "tri = list(filtered_df[filtered_df[\"subject\"] == \"P011\"][\"trial\"].unique())\n",
    "\n",
    "for t in tri:\n",
    "  print(t, filtered_df[filtered_df[\"trial\"] == t][\"phase\"].unique())"
   ]
  },
  {
   "cell_type": "code",
   "execution_count": null,
   "id": "597bdb7e-883a-4e37-b136-ad7353c4ca69",
   "metadata": {},
   "outputs": [],
   "source": []
  },
  {
   "cell_type": "code",
   "execution_count": null,
   "id": "2237db32-dfb7-4609-9d4c-a1f360ded194",
   "metadata": {},
   "outputs": [],
   "source": []
  }
 ],
 "metadata": {
  "kernelspec": {
   "display_name": "Python 3 (ipykernel)",
   "language": "python",
   "name": "python3"
  },
  "language_info": {
   "codemirror_mode": {
    "name": "ipython",
    "version": 3
   },
   "file_extension": ".py",
   "mimetype": "text/x-python",
   "name": "python",
   "nbconvert_exporter": "python",
   "pygments_lexer": "ipython3",
   "version": "3.9.12"
  }
 },
 "nbformat": 4,
 "nbformat_minor": 5
}
