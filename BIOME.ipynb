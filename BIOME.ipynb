{
 "cells": [
  {
   "cell_type": "code",
   "execution_count": 4,
   "id": "624eaa68-fe46-4602-8a32-7f35a15c2b92",
   "metadata": {},
   "outputs": [
    {
     "name": "stdout",
     "output_type": "stream",
     "text": [
      "Module 'loadStUp' has been marked as deactive; Activate from the arguments file.\n"
     ]
    }
   ],
   "source": [
    "import BIOME\n",
    "import pandas as pd\n",
    "\n",
    "args = BIOME.fLoadArg(\"./args.yaml\")\n",
    "args[\"process\"][\"loadStUp\"][\"subjectList\"] = [\"P034\"]\n",
    "args[\"process\"][\"loadStUp\"][\"loadStUpActive\"] = False\n",
    "gbdf = BIOME.loadStUp(args)"
   ]
  },
  {
   "cell_type": "code",
   "execution_count": 6,
   "id": "1f9fcf6e-25ae-4979-893f-da0f893ce98e",
   "metadata": {},
   "outputs": [
    {
     "data": {
      "text/plain": [
       "False"
      ]
     },
     "execution_count": 6,
     "metadata": {},
     "output_type": "execute_result"
    }
   ],
   "source": [
    "gbdf"
   ]
  },
  {
   "cell_type": "code",
   "execution_count": 3,
   "id": "22243243-7195-4e79-85b2-150f6175d1e6",
   "metadata": {},
   "outputs": [],
   "source": [
    "# sub = list(gbdf[\"subject\"].unique())\n",
    "# for s in sub:\n",
    "#   dat = list(gbdf[gbdf[\"subject\"] == s][\"date\"].unique())\n",
    "#   for d in dat:\n",
    "#     tri = list(gbdf[(gbdf[\"subject\"] == s) & (gbdf[\"date\"] == d)][\"trial\"].unique())\n",
    "#     for t in tri:\n",
    "#       smd = gbdf[(gbdf[\"subject\"] == s) & (gbdf[\"date\"] == d) & (gbdf[\"trial\"] == t)]\n",
    "#       pha = list(smd[\"phase\"].unique())\n",
    "#       for ps in pha:\n",
    "#         print(f\"{smd[smd['phase'] == ps]['ch1'].iloc[0]['tim'][0]:.3f}\", end = \" \")\n",
    "        \n",
    "#       print()\n",
    "      \n",
    "  \n",
    "# gbdf[][\"ch1\"].iloc[0][\"tim\"][0]\n",
    "\n",
    "# keys = a.keys()\n",
    "\n",
    "# for k in keys:\n",
    "#   print(str(a[k][\"fina\"][\"reTim\"][0]).rjust(10), \n",
    "#         str(a[k][\"fina\"][\"reTim\"][-1]).rjust(10), \n",
    "#         str(a[k][\"calQ\"]).rjust(2), \n",
    "#         str(a[k][\"wfqm\"]).rjust(10),\n",
    "#         str(a[k][\"prep\"]).rjust(10))\n",
    "#   # break"
   ]
  }
 ],
 "metadata": {
  "kernelspec": {
   "display_name": "Python 3 (ipykernel)",
   "language": "python",
   "name": "python3"
  },
  "language_info": {
   "codemirror_mode": {
    "name": "ipython",
    "version": 3
   },
   "file_extension": ".py",
   "mimetype": "text/x-python",
   "name": "python",
   "nbconvert_exporter": "python",
   "pygments_lexer": "ipython3",
   "version": "3.9.12"
  }
 },
 "nbformat": 4,
 "nbformat_minor": 5
}
