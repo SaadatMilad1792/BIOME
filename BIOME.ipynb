{
 "cells": [
  {
   "cell_type": "code",
   "execution_count": 2,
   "id": "624eaa68-fe46-4602-8a32-7f35a15c2b92",
   "metadata": {},
   "outputs": [
    {
     "name": "stdout",
     "output_type": "stream",
     "text": [
      "Module 'loadStUp' has been marked as deactive; Activate from the arguments file.\n",
      "Module 'phyAware' has been marked as deactive; Activate from the arguments file.\n"
     ]
    },
    {
     "data": {
      "text/plain": [
       "False"
      ]
     },
     "execution_count": 2,
     "metadata": {},
     "output_type": "execute_result"
    }
   ],
   "source": [
    "## -- import BIOME -- ##\n",
    "import BIOME\n",
    "\n",
    "## -- load and assign arguments -- ##\n",
    "args = BIOME.fLoadArg(\"./args.yaml\")\n",
    "\n",
    "\n",
    "## -- BIOME -> loadStUp(args) -- ##\n",
    "# args[\"process\"][\"loadStUp\"][\"subjectList\"] = [\"P034\"]\n",
    "args[\"process\"][\"loadStUp\"][\"loadStUpActive\"] = False\n",
    "args[\"process\"][\"loadStUp\"][\"savePickles\"] = False\n",
    "args[\"process\"][\"loadStUp\"][\"savePltOverall\"] = False\n",
    "gbdf = BIOME.loadStUp(args)\n",
    "\n",
    "## -- BIOME -> phyAware(args) -- ##\n",
    "# args[\"mapping\"][\"phyAware\"][\"subjectList\"] = [\"P034\"]\n",
    "args[\"mapping\"][\"phyAware\"][\"phyAwareActive\"] = False\n",
    "args[\"mapping\"][\"phyAware\"][\"savePytorch\"] = False\n",
    "args[\"mapping\"][\"phyAware\"][\"saveReportLogs\"] = False\n",
    "BIOME.phyAware(args)"
   ]
  },
  {
   "cell_type": "code",
   "execution_count": null,
   "id": "1f9fcf6e-25ae-4979-893f-da0f893ce98e",
   "metadata": {},
   "outputs": [],
   "source": [
    "# import pandas as pd\n",
    "# gbdf = pd.read_pickle(\"/esplabdata/yaleBiozData/pythonDataBase/globalDataFrame.pkl.gz\", compression = \"gzip\")\n",
    "# gbdf.head(1)"
   ]
  }
 ],
 "metadata": {
  "kernelspec": {
   "display_name": "Python 3 (ipykernel)",
   "language": "python",
   "name": "python3"
  },
  "language_info": {
   "codemirror_mode": {
    "name": "ipython",
    "version": 3
   },
   "file_extension": ".py",
   "mimetype": "text/x-python",
   "name": "python",
   "nbconvert_exporter": "python",
   "pygments_lexer": "ipython3",
   "version": "3.9.12"
  }
 },
 "nbformat": 4,
 "nbformat_minor": 5
}
