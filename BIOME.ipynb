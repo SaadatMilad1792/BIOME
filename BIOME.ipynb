{
 "cells": [
  {
   "cell_type": "code",
   "execution_count": 2,
   "id": "624eaa68-fe46-4602-8a32-7f35a15c2b92",
   "metadata": {},
   "outputs": [],
   "source": [
    "import BIOME\n",
    "\n",
    "args = BIOME.fLoadArg(\"./args.yaml\")"
   ]
  },
  {
   "cell_type": "code",
   "execution_count": 3,
   "id": "16033d58-92e5-4049-abe0-ba0f2dbc844a",
   "metadata": {},
   "outputs": [
    {
     "data": {
      "text/plain": [
       "['matlabDataBase',\n",
       " 'pythonDataBase',\n",
       " 'demographics.pkl',\n",
       " 'matlabDataBaseBackUp',\n",
       " 'confPyDataBase',\n",
       " 'analyticDataBase']"
      ]
     },
     "execution_count": 3,
     "metadata": {},
     "output_type": "execute_result"
    }
   ],
   "source": [
    "BIOME.dirSweep(args[\"generic\"][\"inpDir\"])"
   ]
  }
 ],
 "metadata": {
  "kernelspec": {
   "display_name": "Python 3 (ipykernel)",
   "language": "python",
   "name": "python3"
  },
  "language_info": {
   "codemirror_mode": {
    "name": "ipython",
    "version": 3
   },
   "file_extension": ".py",
   "mimetype": "text/x-python",
   "name": "python",
   "nbconvert_exporter": "python",
   "pygments_lexer": "ipython3",
   "version": "3.9.12"
  }
 },
 "nbformat": 4,
 "nbformat_minor": 5
}
