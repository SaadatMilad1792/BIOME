{
 "cells": [
  {
   "cell_type": "code",
   "execution_count": null,
   "id": "624eaa68-fe46-4602-8a32-7f35a15c2b92",
   "metadata": {},
   "outputs": [
    {
     "name": "stdout",
     "output_type": "stream",
     "text": [
      "P001\n",
      "P002\n",
      "P003\n",
      "P004\n"
     ]
    }
   ],
   "source": [
    "import BIOME\n",
    "import pandas as pd\n",
    "\n",
    "args = BIOME.fLoadArg(\"./args.yaml\")\n",
    "# args[\"process\"][\"loadStUp\"][\"subjectList\"] = [\"P034\"]\n",
    "gbdf = BIOME.loadStUp(args)"
   ]
  },
  {
   "cell_type": "code",
   "execution_count": null,
   "id": "22243243-7195-4e79-85b2-150f6175d1e6",
   "metadata": {},
   "outputs": [],
   "source": [
    "# sub = list(gbdf[\"subject\"].unique())\n",
    "# for s in sub:\n",
    "#   dat = list(gbdf[gbdf[\"subject\"] == s][\"date\"].unique())\n",
    "#   for d in dat:\n",
    "#     tri = list(gbdf[(gbdf[\"subject\"] == s) & (gbdf[\"date\"] == d)][\"trial\"].unique())\n",
    "#     for t in tri:\n",
    "#       smd = gbdf[(gbdf[\"subject\"] == s) & (gbdf[\"date\"] == d) & (gbdf[\"trial\"] == t)]\n",
    "#       pha = list(smd[\"phase\"].unique())\n",
    "#       for ps in pha:\n",
    "#         print(f\"{smd[smd['phase'] == ps]['ch1'].iloc[0]['tim'][0]:.3f}\", end = \" \")\n",
    "        \n",
    "#       print()\n",
    "      \n",
    "  \n",
    "# gbdf[][\"ch1\"].iloc[0][\"tim\"][0]\n",
    "\n",
    "# keys = a.keys()\n",
    "\n",
    "# for k in keys:\n",
    "#   print(str(a[k][\"fina\"][\"reTim\"][0]).rjust(10), \n",
    "#         str(a[k][\"fina\"][\"reTim\"][-1]).rjust(10), \n",
    "#         str(a[k][\"calQ\"]).rjust(2), \n",
    "#         str(a[k][\"wfqm\"]).rjust(10),\n",
    "#         str(a[k][\"prep\"]).rjust(10))\n",
    "#   # break"
   ]
  },
  {
   "cell_type": "code",
   "execution_count": null,
   "id": "4edd85b9-a6a4-42c0-914a-ca5191127051",
   "metadata": {},
   "outputs": [],
   "source": [
    "# args[\"generic\"][\"inpDir\"] ,args[\"generic\"][\"inpFolder\"], \"P006\", \"02212023\", \"BioZ_Data_Processed\", \"P006V1a\"\n",
    "# args[\"generic\"][\"inpDir\"] ,args[\"generic\"][\"inpFolder\"], \"P034\", \"06062023\", \"BioZ_Data_Processed\", \"p034v1a\"\n",
    "import os\n",
    "print(BIOME.dirSweep(os.path.join(args[\"generic\"][\"inpDir\"] ,args[\"generic\"][\"inpFolder\"], \"P034\")))\n",
    "print(BIOME.dirSweep(os.path.join(args[\"generic\"][\"inpDir\"] ,args[\"generic\"][\"inpFolder\"], \"P034\", \"06062023\", \"BioZ_Data_Processed\")))"
   ]
  },
  {
   "cell_type": "code",
   "execution_count": null,
   "id": "fab6e34c-4a9b-48e2-8919-85f080ecbd60",
   "metadata": {},
   "outputs": [],
   "source": [
    "d = os.path.join(args[\"generic\"][\"inpDir\"] ,args[\"generic\"][\"inpFolder\"], \"P034\", \"06062023\", \"BioZ_Data_Processed\", \"p034v1a\")\n",
    "a, log = BIOME.proxyLoc(args, d)\n"
   ]
  },
  {
   "cell_type": "code",
   "execution_count": null,
   "id": "4cb204bd-8c1c-45b8-83e3-af0b2220db45",
   "metadata": {},
   "outputs": [],
   "source": [
    "a[\"phaseId02\"][\"data\"].keys()"
   ]
  },
  {
   "cell_type": "code",
   "execution_count": null,
   "id": "3794a467-1ccd-41fc-856b-20438f5c1335",
   "metadata": {},
   "outputs": [],
   "source": [
    "keys = a.keys()\n",
    "\n",
    "for k in keys:\n",
    "  print(str(a[k][\"fina\"][\"reTim\"][0]).rjust(10), \n",
    "        str(a[k][\"fina\"][\"reTim\"][-1]).rjust(10), \n",
    "        str(a[k][\"calQ\"]).rjust(2), \n",
    "        str(a[k][\"wfqm\"]).rjust(10),\n",
    "        str(a[k][\"prep\"]).rjust(10))\n",
    "  # break"
   ]
  }
 ],
 "metadata": {
  "kernelspec": {
   "display_name": "Python 3 (ipykernel)",
   "language": "python",
   "name": "python3"
  },
  "language_info": {
   "codemirror_mode": {
    "name": "ipython",
    "version": 3
   },
   "file_extension": ".py",
   "mimetype": "text/x-python",
   "name": "python",
   "nbconvert_exporter": "python",
   "pygments_lexer": "ipython3",
   "version": "3.9.12"
  }
 },
 "nbformat": 4,
 "nbformat_minor": 5
}
