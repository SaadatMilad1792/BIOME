{
 "cells": [
  {
   "cell_type": "code",
   "execution_count": 1,
   "id": "624eaa68-fe46-4602-8a32-7f35a15c2b92",
   "metadata": {},
   "outputs": [
    {
     "name": "stdout",
     "output_type": "stream",
     "text": [
      "P034\n"
     ]
    }
   ],
   "source": [
    "import BIOME\n",
    "import pandas as pd\n",
    "\n",
    "args = BIOME.fLoadArg(\"./args.yaml\")\n",
    "# args[\"process\"][\"loadStUp\"][\"subjectList\"] = [\"P034\"]\n",
    "gbdf = BIOME.loadStUp(args)"
   ]
  },
  {
   "cell_type": "code",
   "execution_count": 2,
   "id": "22243243-7195-4e79-85b2-150f6175d1e6",
   "metadata": {},
   "outputs": [],
   "source": [
    "# sub = list(gbdf[\"subject\"].unique())\n",
    "# for s in sub:\n",
    "#   dat = list(gbdf[gbdf[\"subject\"] == s][\"date\"].unique())\n",
    "#   for d in dat:\n",
    "#     tri = list(gbdf[(gbdf[\"subject\"] == s) & (gbdf[\"date\"] == d)][\"trial\"].unique())\n",
    "#     for t in tri:\n",
    "#       smd = gbdf[(gbdf[\"subject\"] == s) & (gbdf[\"date\"] == d) & (gbdf[\"trial\"] == t)]\n",
    "#       pha = list(smd[\"phase\"].unique())\n",
    "#       for ps in pha:\n",
    "#         print(f\"{smd[smd['phase'] == ps]['ch1'].iloc[0]['tim'][0]:.3f}\", end = \" \")\n",
    "        \n",
    "#       print()\n",
    "      \n",
    "  \n",
    "# gbdf[][\"ch1\"].iloc[0][\"tim\"][0]\n",
    "\n",
    "# keys = a.keys()\n",
    "\n",
    "# for k in keys:\n",
    "#   print(str(a[k][\"fina\"][\"reTim\"][0]).rjust(10), \n",
    "#         str(a[k][\"fina\"][\"reTim\"][-1]).rjust(10), \n",
    "#         str(a[k][\"calQ\"]).rjust(2), \n",
    "#         str(a[k][\"wfqm\"]).rjust(10),\n",
    "#         str(a[k][\"prep\"]).rjust(10))\n",
    "#   # break"
   ]
  },
  {
   "cell_type": "code",
   "execution_count": 3,
   "id": "4edd85b9-a6a4-42c0-914a-ca5191127051",
   "metadata": {},
   "outputs": [
    {
     "name": "stdout",
     "output_type": "stream",
     "text": [
      "['06062023']\n",
      "['p034v1a', 'p034v1b', 'p034v1c']\n"
     ]
    }
   ],
   "source": [
    "# args[\"generic\"][\"inpDir\"] ,args[\"generic\"][\"inpFolder\"], \"P006\", \"02212023\", \"BioZ_Data_Processed\", \"P006V1a\"\n",
    "# args[\"generic\"][\"inpDir\"] ,args[\"generic\"][\"inpFolder\"], \"P034\", \"06062023\", \"BioZ_Data_Processed\", \"p034v1a\"\n",
    "import os\n",
    "print(BIOME.dirSweep(os.path.join(args[\"generic\"][\"inpDir\"] ,args[\"generic\"][\"inpFolder\"], \"P034\")))\n",
    "print(BIOME.dirSweep(os.path.join(args[\"generic\"][\"inpDir\"] ,args[\"generic\"][\"inpFolder\"], \"P034\", \"06062023\", \"BioZ_Data_Processed\")))"
   ]
  },
  {
   "cell_type": "code",
   "execution_count": 4,
   "id": "fab6e34c-4a9b-48e2-8919-85f080ecbd60",
   "metadata": {},
   "outputs": [],
   "source": [
    "d = os.path.join(args[\"generic\"][\"inpDir\"] ,args[\"generic\"][\"inpFolder\"], \"P034\", \"06062023\", \"BioZ_Data_Processed\", \"p034v1a\")\n",
    "a, log = BIOME.proxyLoc(args, d)\n"
   ]
  },
  {
   "cell_type": "code",
   "execution_count": 5,
   "id": "4cb204bd-8c1c-45b8-83e3-af0b2220db45",
   "metadata": {},
   "outputs": [
    {
     "data": {
      "text/plain": [
       "dict_keys(['ppgData', 'channel1', 'channel2', 'accmeter', 'biozCharacteristicPoints'])"
      ]
     },
     "execution_count": 5,
     "metadata": {},
     "output_type": "execute_result"
    }
   ],
   "source": [
    "a[\"phaseId02\"][\"data\"].keys()"
   ]
  },
  {
   "cell_type": "code",
   "execution_count": 6,
   "id": "3794a467-1ccd-41fc-856b-20438f5c1335",
   "metadata": {},
   "outputs": [
    {
     "name": "stdout",
     "output_type": "stream",
     "text": [
      "  607.9904   781.6809  2 (0.0068653631284891735, 0.83989118059914, 0.8606550929087259) Uncalibrated\n",
      "  879.1706   930.8628  2 (0.015372727272725423, 0.7736830506566417, 0.8258532102936582) Uncalibrated\n",
      "  944.2421  1118.6827  2 (0.010600331674956115, 0.9171484096775422, 0.9014367877241497) Uncalibrated\n",
      " 1330.0713  1444.8852  2 (0.012908578431377767, 0.6166746039144736, 0.7515344320953087) Uncalibrated\n",
      " 1457.6495  1629.6403  2 (0.007271584699449168, 0.9486951404415549, 0.9195290348842803) Uncalibrated\n",
      " 1739.6345  1843.6289  2 (0.016109034267914928, 0.28869918275737244, 0.6067841033012993) Uncalibrated\n",
      " 1857.7932   2030.749  2 (0.010269189189191834, 0.8153978553450354, 0.8678697910279661) Uncalibrated\n"
     ]
    }
   ],
   "source": [
    "keys = a.keys()\n",
    "\n",
    "for k in keys:\n",
    "  print(str(a[k][\"fina\"][\"reTim\"][0]).rjust(10), \n",
    "        str(a[k][\"fina\"][\"reTim\"][-1]).rjust(10), \n",
    "        str(a[k][\"calQ\"]).rjust(2), \n",
    "        str(a[k][\"wfqm\"]).rjust(10),\n",
    "        str(a[k][\"prep\"]).rjust(10))\n",
    "  # break"
   ]
  }
 ],
 "metadata": {
  "kernelspec": {
   "display_name": "Python 3 (ipykernel)",
   "language": "python",
   "name": "python3"
  },
  "language_info": {
   "codemirror_mode": {
    "name": "ipython",
    "version": 3
   },
   "file_extension": ".py",
   "mimetype": "text/x-python",
   "name": "python",
   "nbconvert_exporter": "python",
   "pygments_lexer": "ipython3",
   "version": "3.9.12"
  }
 },
 "nbformat": 4,
 "nbformat_minor": 5
}
