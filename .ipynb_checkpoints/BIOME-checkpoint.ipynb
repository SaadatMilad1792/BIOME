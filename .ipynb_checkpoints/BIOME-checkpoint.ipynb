{
 "cells": [
  {
   "cell_type": "code",
   "execution_count": 1,
   "id": "624eaa68-fe46-4602-8a32-7f35a15c2b92",
   "metadata": {},
   "outputs": [
    {
     "name": "stdout",
     "output_type": "stream",
     "text": [
      "Module 'loadStUp' has been marked as deactive; Activate from the arguments file.\n"
     ]
    }
   ],
   "source": [
    "## -- import BIOME -- ##\n",
    "import BIOME\n",
    "\n",
    "## -- load and assign arguments -- ##\n",
    "args = BIOME.fLoadArg(\"./args.yaml\")\n",
    "# args[\"process\"][\"loadStUp\"][\"subjectList\"] = [\"P034\"]\n",
    "args[\"process\"][\"loadStUp\"][\"loadStUpActive\"] = False\n",
    "args[\"process\"][\"loadStUp\"][\"savePickles\"] = False\n",
    "args[\"process\"][\"loadStUp\"][\"savePltOverall\"] = False\n",
    "\n",
    "## -- BIOME -> loadStUp(args) -- ##\n",
    "gbdf = BIOME.loadStUp(args)"
   ]
  },
  {
   "cell_type": "code",
   "execution_count": 2,
   "id": "1f9fcf6e-25ae-4979-893f-da0f893ce98e",
   "metadata": {},
   "outputs": [],
   "source": [
    "import pandas as pd\n",
    "gbdf = pd.read_pickle(\"/esplabdata/yaleBiozData/pythonDataBase/globalDataFrame.pkl.gz\", compression = \"gzip\")"
   ]
  },
  {
   "cell_type": "code",
   "execution_count": 5,
   "id": "95badfbc-4eb6-43de-8c76-82b2e9b1ed2a",
   "metadata": {},
   "outputs": [
    {
     "data": {
      "text/html": [
       "<div>\n",
       "<style scoped>\n",
       "    .dataframe tbody tr th:only-of-type {\n",
       "        vertical-align: middle;\n",
       "    }\n",
       "\n",
       "    .dataframe tbody tr th {\n",
       "        vertical-align: top;\n",
       "    }\n",
       "\n",
       "    .dataframe thead th {\n",
       "        text-align: right;\n",
       "    }\n",
       "</style>\n",
       "<table border=\"1\" class=\"dataframe\">\n",
       "  <thead>\n",
       "    <tr style=\"text-align: right;\">\n",
       "      <th></th>\n",
       "      <th>project_name</th>\n",
       "      <th>subject</th>\n",
       "      <th>date</th>\n",
       "      <th>trial</th>\n",
       "      <th>phase</th>\n",
       "      <th>phase_description</th>\n",
       "      <th>calQ</th>\n",
       "      <th>wfqm</th>\n",
       "      <th>prep</th>\n",
       "      <th>age</th>\n",
       "      <th>gender</th>\n",
       "      <th>height (cm)</th>\n",
       "      <th>weight (kg)</th>\n",
       "      <th>ch1</th>\n",
       "      <th>ch2</th>\n",
       "      <th>ppg</th>\n",
       "      <th>acc</th>\n",
       "      <th>fin</th>\n",
       "      <th>characteristic_points</th>\n",
       "    </tr>\n",
       "  </thead>\n",
       "  <tbody>\n",
       "    <tr>\n",
       "      <th>0</th>\n",
       "      <td>yaleBiozProject</td>\n",
       "      <td>P001</td>\n",
       "      <td>01172023</td>\n",
       "      <td>P001v1a</td>\n",
       "      <td>ph02</td>\n",
       "      <td>BIO - Z Calibration (3 mins)</td>\n",
       "      <td>2</td>\n",
       "      <td>(0.26116036414566135, 0.066101690084894, 0.070...</td>\n",
       "      <td>US</td>\n",
       "      <td>50.0</td>\n",
       "      <td>Female</td>\n",
       "      <td>165.0</td>\n",
       "      <td>78.0</td>\n",
       "      <td>{'abs': [95.83760696829461, 95.83774489365902,...</td>\n",
       "      <td>{'abs': [72.01385410614951, 72.01356650832844,...</td>\n",
       "      <td>{'mag': [6.468239640949947e-06, 6.070897468575...</td>\n",
       "      <td>{'xax': [-0.0879844, -0.08794413307086614, -0....</td>\n",
       "      <td>{'fp_adc_val': [139.5416259765625, 139.5549623...</td>\n",
       "      <td>{'max_crest': {'val': 0.04682686867653274, 'ti...</td>\n",
       "    </tr>\n",
       "  </tbody>\n",
       "</table>\n",
       "</div>"
      ],
      "text/plain": [
       "      project_name subject      date    trial phase  \\\n",
       "0  yaleBiozProject    P001  01172023  P001v1a  ph02   \n",
       "\n",
       "              phase_description  calQ  \\\n",
       "0  BIO - Z Calibration (3 mins)     2   \n",
       "\n",
       "                                                wfqm prep   age  gender  \\\n",
       "0  (0.26116036414566135, 0.066101690084894, 0.070...   US  50.0  Female   \n",
       "\n",
       "  height (cm) weight (kg)                                                ch1  \\\n",
       "0       165.0        78.0  {'abs': [95.83760696829461, 95.83774489365902,...   \n",
       "\n",
       "                                                 ch2  \\\n",
       "0  {'abs': [72.01385410614951, 72.01356650832844,...   \n",
       "\n",
       "                                                 ppg  \\\n",
       "0  {'mag': [6.468239640949947e-06, 6.070897468575...   \n",
       "\n",
       "                                                 acc  \\\n",
       "0  {'xax': [-0.0879844, -0.08794413307086614, -0....   \n",
       "\n",
       "                                                 fin  \\\n",
       "0  {'fp_adc_val': [139.5416259765625, 139.5549623...   \n",
       "\n",
       "                               characteristic_points  \n",
       "0  {'max_crest': {'val': 0.04682686867653274, 'ti...  "
      ]
     },
     "execution_count": 5,
     "metadata": {},
     "output_type": "execute_result"
    }
   ],
   "source": [
    "gbdf.head(1)"
   ]
  },
  {
   "cell_type": "code",
   "execution_count": null,
   "id": "403c4eca-b641-4c04-878f-14ed73978a6e",
   "metadata": {},
   "outputs": [],
   "source": []
  }
 ],
 "metadata": {
  "kernelspec": {
   "display_name": "Python 3 (ipykernel)",
   "language": "python",
   "name": "python3"
  },
  "language_info": {
   "codemirror_mode": {
    "name": "ipython",
    "version": 3
   },
   "file_extension": ".py",
   "mimetype": "text/x-python",
   "name": "python",
   "nbconvert_exporter": "python",
   "pygments_lexer": "ipython3",
   "version": "3.9.12"
  }
 },
 "nbformat": 4,
 "nbformat_minor": 5
}
